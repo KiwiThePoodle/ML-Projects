{
 "cells": [
  {
   "cell_type": "code",
   "execution_count": 211,
   "metadata": {
    "collapsed": false
   },
   "outputs": [],
   "source": [
    "from __future__ import absolute_import\n",
    "from __future__ import division\n",
    "from __future__ import print_function\n",
    "\n",
    "from utils import *\n",
    "\n",
    "import numpy as np\n",
    "import cvxopt\n",
    "\n",
    "cvxopt.solvers.options['show_progress'] = False\n",
    "\n",
    "%matplotlib inline"
   ]
  },
  {
   "cell_type": "code",
   "execution_count": 212,
   "metadata": {
    "collapsed": false
   },
   "outputs": [
    {
     "name": "stdout",
     "output_type": "stream",
     "text": [
      "Feature size:  1464\n"
     ]
    }
   ],
   "source": [
    "\"\"\"\n",
    "Get the preprocessed data:\n",
    "X and y are dicts, has keys train, val and test. keys gives you what word (or pair of words) each dimension corresponds to.\n",
    "\n",
    "You can also get bigram features if you call preprocess(bigram = True)`\n",
    "Another optional argument mincount specifies the frequency cutoff for inclusion of a word/bigram in the\n",
    "dictionary.\n",
    "\n",
    "\"\"\"\n",
    "\n",
    "X, y, keys = preprocess()"
   ]
  },
  {
   "cell_type": "code",
   "execution_count": 213,
   "metadata": {
    "collapsed": true
   },
   "outputs": [],
   "source": [
    "class Kernel(object):\n",
    "    \"\"\"\n",
    "    A class containing all kinds of kernels.\n",
    "    Note: the kernel should work for both input (Matrix, vector) and (vector, vector)\n",
    "    \"\"\"\n",
    "    @staticmethod\n",
    "    def linear():\n",
    "        def f(x, y):\n",
    "            return np.dot(x, y)\n",
    "        return f\n",
    "\n",
    "    @staticmethod\n",
    "    def gaussian(gamma):  # we use the commonly used name, although it's not really a Gaussian\n",
    "        def f(x, y):\n",
    "            exponent = - gamma * np.linalg.norm((x-y).transpose(), 2, 0) ** 2\n",
    "            return np.exp(exponent)\n",
    "        return f\n",
    "\n",
    "    @staticmethod\n",
    "    def _poly(dimension, offset):\n",
    "        def f(x, y):\n",
    "            return (offset + np.dot(x, y)) ** dimension\n",
    "        return f\n",
    "\n",
    "    @staticmethod\n",
    "    def inhomogenous_polynomial(dimension):\n",
    "        return Kernel._poly(dimension=dimension, offset=1.0)\n",
    "\n",
    "    @staticmethod\n",
    "    def homogenous_polynomial(dimension):\n",
    "        return Kernel._poly(dimension=dimension, offset=0.0)\n",
    "\n",
    "    @staticmethod\n",
    "    def hyperbolic_tangent(kappa, c):\n",
    "        def f(x, y):\n",
    "            return np.tanh(kappa * np.dot(x, y) + c)\n",
    "        return f"
   ]
  },
  {
   "cell_type": "code",
   "execution_count": 229,
   "metadata": {
    "collapsed": false
   },
   "outputs": [],
   "source": [
    "class SVM(object):\n",
    "    def __init__(self, kernel, c):\n",
    "        \"\"\"\n",
    "        Build a SVM given kernel function and C\n",
    "\n",
    "        Parameters\n",
    "        ----------\n",
    "        kernel : function\n",
    "            a function takes input (Matrix, vector) or (vector, vector)\n",
    "        c : a scalar\n",
    "            balance term\n",
    "\n",
    "        Returns\n",
    "        -------\n",
    "        \"\"\"\n",
    "        self._kernel = kernel\n",
    "        self._c = c\n",
    "\n",
    "    def fit(self, X, y):\n",
    "        \"\"\"\n",
    "        Fit the model given data X and ground truth label y\n",
    "\n",
    "        Parameters\n",
    "        ----------\n",
    "        X : 2D array\n",
    "            N x d data matrix (row per example)\n",
    "        y : 1D array\n",
    "            class label\n",
    "\n",
    "        Returns\n",
    "        -------\n",
    "        \"\"\"\n",
    "        # Solve the QP problem to get the multipliers\n",
    "        lagrange_multipliers = self._compute_multipliers(X, y)\n",
    "        # Get all the support vectors, support weights and bias\n",
    "        self._construct_predictor(X, y, lagrange_multipliers)\n",
    "    \n",
    "    def predict(self, X):\n",
    "        \"\"\"\n",
    "        Predict the label given data X\n",
    "\n",
    "        Parameters\n",
    "        ----------\n",
    "        X : 2D array\n",
    "            N x d data matrix (row per example)\n",
    "\n",
    "        Returns\n",
    "        -------\n",
    "        y : 1D array\n",
    "            predicted label\n",
    "        \"\"\"\n",
    "        result = np.full(X.shape[0], self._bias) # allocate\n",
    "        \n",
    "        # YOUR CODE HERE\n",
    "\n",
    "        length = len(self._weights)\n",
    "        for i in range(length):\n",
    "            result += self._weights[i] * self._support_vector_labels[i] * self._kernel(X, self._support_vectors[i])\n",
    "\n",
    "        return np.sign(result)\n",
    "\n",
    "    def _kernel_matrix(self, X):\n",
    "        \"\"\"\n",
    "        Get the kernel matrix.\n",
    "\n",
    "        Parameters\n",
    "        ----------\n",
    "        X : 2D array\n",
    "            N x d data matrix (row per example)\n",
    "\n",
    "        Returns\n",
    "        -------\n",
    "        K : 2D array\n",
    "            N x N kernel matrix\n",
    "        \"\"\"\n",
    "        N, d = X.shape\n",
    "        K = np.zeros((N, N))\n",
    "        for i, x_i in enumerate(X):\n",
    "            for j, x_j in enumerate(X):\n",
    "                K[i, j] = self._kernel(x_i, x_j)\n",
    "        return K\n",
    "\n",
    "    def _construct_predictor(self, X, y, lagrange_multipliers):\n",
    "        \"\"\"\n",
    "        Given the data, label and the multipliers, extract the support vectors and calculate the bias\n",
    "\n",
    "        Parameters\n",
    "        ----------\n",
    "        X : 2D array\n",
    "            N x d data matrix (row per example)\n",
    "        y : 1D array\n",
    "            class label\n",
    "        lagrange_multipliers: 1D array\n",
    "            the solution of lagrange_multiplier\n",
    "\n",
    "        Fills in relevant variables: model bias and weights (alphas), and details of support vectors\n",
    "        \n",
    "        -------\n",
    "        \"\"\"\n",
    "        support_vector_indices = \\\n",
    "            lagrange_multipliers > 1e-5\n",
    "            \n",
    "        print(\"SV number: \", np.sum(support_vector_indices))\n",
    "\n",
    "        support_multipliers = lagrange_multipliers[support_vector_indices]\n",
    "        support_vectors = X[support_vector_indices]\n",
    "        support_vector_labels = y[support_vector_indices]\n",
    "\n",
    "        \"\"\"\n",
    "        Get the bias term (w_0)\n",
    "        \"\"\"\n",
    "        #YOUR CODE HERE\n",
    "\n",
    "        length = len(support_multipliers)\n",
    "        total_bias = 0.0\n",
    "        count = 0\n",
    "        bias = 0.0\n",
    "        for k in range(length):\n",
    "            # choose a support vector that is on a marginal hyperplane\n",
    "            # support_multipliers[k] < 0.9*self._c and 1e-3 < support_multipliers[k]\n",
    "            if support_multipliers[k] < 0.9 * self._c and support_multipliers[k] > 1e-3:\n",
    "                # y_k is the label of your chosen support vector x_k\n",
    "                y_k = support_vector_labels[k]\n",
    "                # a_i (alpha_i) is the Lagrange multiplier for the i-th support vector\n",
    "                a_i = support_multipliers\n",
    "                # y_i is the label of the i-th support vector\n",
    "                y_i = support_vector_labels\n",
    "                # x_k is the k-th suport vector\n",
    "                x = np.arange(len(lagrange_multipliers))[support_vector_indices]\n",
    "                x_k = x[k]\n",
    "                # x_i is the i-th support vector\n",
    "                x_i = support_vector_indices\n",
    "                # K(x_k, x_i) is the kernel function\n",
    "                K = self._kernel_matrix(X)\n",
    "                # add up total bias and count, make sure a_i > 0\n",
    "                # bias is $w_0 = y_k - \\sum_{\\alpha_i > 0} (\\alpha_i y_i K(x_k, x_i))$\n",
    "                total_bias += (y_k - np.sum(np.maximum(a_i, 0) * y_i * K[x_k, x_i]))\n",
    "                count += 1\n",
    "                break\n",
    "        # cannot divide by zero\n",
    "        if count != 0:\n",
    "            # computing an average bias term using multiple support vectors is also reasonable\n",
    "            bias = total_bias / count\n",
    "\n",
    "        self._bias=bias\n",
    "        self._weights=support_multipliers\n",
    "        self._support_vectors=support_vectors\n",
    "        self._support_vector_labels=support_vector_labels\n",
    "\n",
    "    def _compute_multipliers(self, X, y):\n",
    "        \"\"\"\n",
    "        Given the data, label, solve the QP program to get lagrange multiplier.\n",
    "\n",
    "        Parameters\n",
    "        ----------\n",
    "        X : 2D array\n",
    "            N x d data matrix (row per example)\n",
    "        y : 1D array\n",
    "            class label\n",
    "\n",
    "        Returns\n",
    "        lagrange_multipliers: 1D array\n",
    "        -------\n",
    "        \"\"\"\n",
    "        N, d = X.shape\n",
    "\n",
    "        K = self._kernel_matrix(X)\n",
    "        \"\"\"\n",
    "        The standard QP solver formulation:\n",
    "        min 1/2 x^T H x + f^T x\n",
    "        s.t.\n",
    "        Ax <=  a\n",
    "        Bx = b\n",
    "        \"\"\"\n",
    "        # $H_{ij} = y_i y_j K(x_i, x_j)$\n",
    "        H = cvxopt.matrix(np.outer(y, y) * K)\n",
    "        # f would correspond to a size N vector of negative ones\n",
    "        f = cvxopt.matrix(-np.ones(N))\n",
    "\n",
    "        # A is an NxN identity matrix\n",
    "        A_upper = -np.eye(N)\n",
    "        A_lower = np.eye(N)\n",
    "        A = cvxopt.matrix(np.vstack((A_upper, A_lower)))\n",
    "        # a is a size N vector of elements set to C\n",
    "        a_upper = np.zeros(N)\n",
    "        a_lower = np.ones(N) * self._c\n",
    "        a = cvxopt.matrix(np.hstack((a_upper, a_lower)))\n",
    "\n",
    "        # B is a vector with all elements equal to $y_i$ for all $i$ reshaped to size Nx1\n",
    "        B = cvxopt.matrix(y.reshape(1, N))\n",
    "        # b is a scalar equal to 0\n",
    "        b = cvxopt.matrix(0.0)\n",
    "        \n",
    "        # call the QP solver\n",
    "        solution = cvxopt.solvers.qp(H, f, A, a, B, b)\n",
    "\n",
    "        # Lagrange multipliers (the unknown vector 'x' is our alphas)\n",
    "        return np.ravel(solution['x'])"
   ]
  },
  {
   "cell_type": "markdown",
   "metadata": {},
   "source": [
    "Test the trainer.\n",
    "The following code would generate data which the grounth truth split is x+y = 0.5."
   ]
  },
  {
   "cell_type": "code",
   "execution_count": 231,
   "metadata": {
    "collapsed": false
   },
   "outputs": [
    {
     "name": "stdout",
     "output_type": "stream",
     "text": [
      "SV number:  8\n"
     ]
    },
    {
     "data": {
      "image/png": "[encoded data removed]",
      "text/plain": [
       "<Figure size 640x480 with 1 Axes>"
      ]
     },
     "metadata": {},
     "output_type": "display_data"
    }
   ],
   "source": [
    "clf = SVM(Kernel.linear(), 100)\n",
    "test_linear_SVM(clf, 100)"
   ]
  },
  {
   "cell_type": "code",
   "execution_count": 232,
   "metadata": {
    "collapsed": false
   },
   "outputs": [
    {
     "name": "stdout",
     "output_type": "stream",
     "text": [
      "SV number:  12\n"
     ]
    },
    {
     "data": {
      "image/png": "[encoded data removed]",
      "text/plain": [
       "<Figure size 640x480 with 1 Axes>"
      ]
     },
     "metadata": {},
     "output_type": "display_data"
    }
   ],
   "source": [
    "clf = SVM(Kernel.gaussian(1), 100)\n",
    "test_rbf_SVM(clf, 100)"
   ]
  },
  {
   "cell_type": "markdown",
   "metadata": {},
   "source": [
    "If you think your code is correct, then we can move to the real problem. Below are some code examples; you will need to fill in some details, and extend these to any experiments you want to run."
   ]
  },
  {
   "cell_type": "code",
   "execution_count": 188,
   "metadata": {
    "collapsed": false
   },
   "outputs": [
    {
     "name": "stdout",
     "output_type": "stream",
     "text": [
      "SV number:  1834\n",
      "C =  0.04\n",
      "Acc on train:  0.8410237923576064\n",
      "Acc on val:  0.734\n",
      "SV number:  1785\n",
      "C =  0.05\n",
      "Acc on train:  0.8525594808940159\n",
      "Acc on val:  0.744\n",
      "SV number:  1750\n",
      "C =  0.06\n",
      "Acc on train:  0.8640951694304254\n",
      "Acc on val:  0.748\n"
     ]
    }
   ],
   "source": [
    "best_accuracy = 0\n",
    "best_C = None\n",
    "\n",
    "for C in [0.04, 0.05, 0.06]:\n",
    "    clf = SVM(Kernel.linear(), C)\n",
    "    clf.fit(X['train'], y['train'].astype('double'))\n",
    "    print(\"C = \", C)\n",
    "    y_hat = clf.predict(X['train'])\n",
    "    print(\"Acc on train: \", np.mean(y_hat == y['train']))\n",
    "    y_hat = clf.predict(X['val'])\n",
    "    acc_val = np.mean(y_hat == y['val'])\n",
    "    print(\"Acc on val: \", acc_val)\n",
    "\n",
    "    if acc_val > best_accuracy:\n",
    "        best_accuracy = acc_val\n",
    "        best_C = C"
   ]
  },
  {
   "cell_type": "markdown",
   "metadata": {},
   "source": [
    "Choose the best C, and predict the label for test data."
   ]
  },
  {
   "cell_type": "code",
   "execution_count": 189,
   "metadata": {
    "collapsed": true
   },
   "outputs": [
    {
     "name": "stdout",
     "output_type": "stream",
     "text": [
      "SV number:  1750\n"
     ]
    }
   ],
   "source": [
    "C = best_C\n",
    "clf = SVM(Kernel.linear(), C)\n",
    "clf.fit(X['train'], y['train'].astype('double'))\n",
    "y_hat = clf.predict(X['test'])\n",
    "save_submission('sub_linear.csv', y_hat)\n"
   ]
  },
  {
   "cell_type": "markdown",
   "metadata": {},
   "source": [
    "RBF (Gaussian) kernel SVM"
   ]
  },
  {
   "cell_type": "code",
   "execution_count": 183,
   "metadata": {
    "collapsed": false
   },
   "outputs": [
    {
     "name": "stdout",
     "output_type": "stream",
     "text": [
      "SV number:  2417\n",
      "C =  10.0\n",
      "gamma =  0.1\n",
      "Acc on train:  1.0\n",
      "Acc on val:  0.762\n"
     ]
    }
   ],
   "source": [
    "best_accuracy = 0\n",
    "best_C = None\n",
    "best_gamma = None\n",
    "\n",
    "for C in [10.0]:\n",
    "    for gamma in [0.1]:\n",
    "        clf = SVM(Kernel.gaussian(gamma), C)\n",
    "        clf.fit(X['train'], y['train'].astype('double'))\n",
    "        print(\"C = \", C)\n",
    "        print(\"gamma = \", gamma)\n",
    "        y_hat = clf.predict(X['train'])\n",
    "        print(\"Acc on train: \", np.mean(y_hat == y['train']))\n",
    "        y_hat = clf.predict(X['val'])\n",
    "        acc_val = np.mean(y_hat == y['val'])\n",
    "        print(\"Acc on val: \", acc_val)\n",
    "\n",
    "        if acc_val > best_accuracy:\n",
    "            best_accuracy = acc_val\n",
    "            best_C = C\n",
    "            best_gamma = gamma\n",
    "        "
   ]
  },
  {
   "cell_type": "code",
   "execution_count": 184,
   "metadata": {
    "collapsed": true
   },
   "outputs": [
    {
     "name": "stdout",
     "output_type": "stream",
     "text": [
      "SV number:  2417\n"
     ]
    }
   ],
   "source": [
    "clf = SVM(Kernel.gaussian(best_gamma), best_C)\n",
    "clf.fit(X['train'], y['train'].astype('double'))\n",
    "y_hat = clf.predict(X['test'])\n",
    "save_submission('sub_rbf.csv', y_hat)\n"
   ]
  }
 ],
 "metadata": {
  "kernelspec": {
   "display_name": "base",
   "language": "python",
   "name": "python3"
  },
  "language_info": {
   "codemirror_mode": {
    "name": "ipython",
    "version": 3
   },
   "file_extension": ".py",
   "mimetype": "text/x-python",
   "name": "python",
   "nbconvert_exporter": "python",
   "pygments_lexer": "ipython3",
   "version": "3.11.4"
  }
 },
 "nbformat": 4,
 "nbformat_minor": 0
}
